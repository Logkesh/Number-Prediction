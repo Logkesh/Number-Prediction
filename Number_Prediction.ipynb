{
  "nbformat": 4,
  "nbformat_minor": 0,
  "metadata": {
    "colab": {
      "name": "NumbeP.ipynb",
      "provenance": [],
      "collapsed_sections": [],
      "mount_file_id": "1PVyRqVzH4vnM5wLksvIFqtHA8GJ_tlGl",
      "authorship_tag": "ABX9TyPJhdt4OfvqZXcTCi6Y0X1b",
      "include_colab_link": true
    },
    "kernelspec": {
      "name": "python3",
      "display_name": "Python 3"
    },
    "language_info": {
      "name": "python"
    }
  },
  "cells": [
    {
      "cell_type": "markdown",
      "metadata": {
        "id": "view-in-github",
        "colab_type": "text"
      },
      "source": [
        "<a href=\"https://colab.research.google.com/github/Logkesh/Number-Prediction/blob/main/Number_Prediction.ipynb\" target=\"_parent\"><img src=\"https://colab.research.google.com/assets/colab-badge.svg\" alt=\"Open In Colab\"/></a>"
      ]
    },
    {
      "cell_type": "code",
      "metadata": {
        "id": "PQWrs_85UWQY"
      },
      "source": [
        "from keras.datasets import mnist\n",
        "import numpy as np\n",
        "import matplotlib.pyplot as plt"
      ],
      "execution_count": null,
      "outputs": []
    },
    {
      "cell_type": "code",
      "metadata": {
        "id": "zx1633aHUobh"
      },
      "source": [
        "(x_train, y_train), (x_test, y_test) = mnist.load_data()"
      ],
      "execution_count": 45,
      "outputs": []
    },
    {
      "cell_type": "code",
      "metadata": {
        "colab": {
          "base_uri": "https://localhost:8080/",
          "height": 281
        },
        "id": "-xFr2ttxU_d9",
        "outputId": "7aadef36-2bec-4e5b-f52b-33e4ade51ea0"
      },
      "source": [
        "plt.imshow(x_train[80], cmap='gray' )\n",
        "plt.title(y_train[80])\n",
        "plt.show()"
      ],
      "execution_count": 46,
      "outputs": [
        {
          "output_type": "display_data",
          "data": {
            "image/png": "[encoded data removed]",
            "text/plain": [
              "<Figure size 432x288 with 1 Axes>"
            ]
          },
          "metadata": {
            "needs_background": "light"
          }
        }
      ]
    },
    {
      "cell_type": "code",
      "metadata": {
        "id": "EZvyPrCKVLnS"
      },
      "source": [
        "from keras.layers import Dense, Conv2D, AveragePooling2D, Flatten\n",
        "from keras.models import Sequential"
      ],
      "execution_count": 56,
      "outputs": []
    },
    {
      "cell_type": "code",
      "metadata": {
        "id": "HzSyv-FIXCxi"
      },
      "source": [
        "m = Sequential()\n",
        "m.add(Conv2D(filters=4, kernel_size=(5,5), input_shape = (28,28,1)))\n",
        "m.add(AveragePooling2D(pool_size=(2,2)))\n",
        "m.add(Conv2D(filters=4, kernel_size=(7,7), input_shape = (28,28,1)))\n",
        "m.add(AveragePooling2D(pool_size=(2,2)))\n",
        "\n",
        "m.add(Flatten())\n",
        "m.add((Dense(units = 10, activation='softmax')))"
      ],
      "execution_count": 57,
      "outputs": []
    },
    {
      "cell_type": "code",
      "metadata": {
        "id": "8wlGAoJjXXwN"
      },
      "source": [
        "m.compile(loss=\"sparse_categorical_crossentropy\",optimizer = 'adam', metrics = ['acc'])"
      ],
      "execution_count": 58,
      "outputs": []
    },
    {
      "cell_type": "code",
      "metadata": {
        "id": "Om_3CJBzjrs9",
        "colab": {
          "base_uri": "https://localhost:8080/"
        },
        "outputId": "5419a30e-eccc-492b-9dc8-d2ed3cc4ed64"
      },
      "source": [
        "  m.summary()"
      ],
      "execution_count": 59,
      "outputs": [
        {
          "output_type": "stream",
          "name": "stdout",
          "text": [
            "Model: \"sequential_2\"\n",
            "_________________________________________________________________\n",
            "Layer (type)                 Output Shape              Param #   \n",
            "=================================================================\n",
            "conv2d_4 (Conv2D)            (None, 24, 24, 4)         104       \n",
            "_________________________________________________________________\n",
            "average_pooling2d_4 (Average (None, 12, 12, 4)         0         \n",
            "_________________________________________________________________\n",
            "conv2d_5 (Conv2D)            (None, 6, 6, 4)           788       \n",
            "_________________________________________________________________\n",
            "average_pooling2d_5 (Average (None, 3, 3, 4)           0         \n",
            "_________________________________________________________________\n",
            "flatten_2 (Flatten)          (None, 36)                0         \n",
            "_________________________________________________________________\n",
            "dense_2 (Dense)              (None, 10)                370       \n",
            "=================================================================\n",
            "Total params: 1,262\n",
            "Trainable params: 1,262\n",
            "Non-trainable params: 0\n",
            "_________________________________________________________________\n"
          ]
        }
      ]
    },
    {
      "cell_type": "code",
      "metadata": {
        "id": "vufw5iBGcwq2"
      },
      "source": [
        "x_train = x_train.reshape(-1,28,28,1)\n",
        "\n",
        "x_test = x_test.reshape(-1,28,28,1)"
      ],
      "execution_count": 54,
      "outputs": []
    },
    {
      "cell_type": "code",
      "metadata": {
        "colab": {
          "base_uri": "https://localhost:8080/"
        },
        "id": "hJ7i021_Tnyt",
        "outputId": "7af818c6-7a11-43e8-c3b1-2f740f24581c"
      },
      "source": [
        "m.fit(x_train,y_train,epochs = 1, batch_size = 1)"
      ],
      "execution_count": 60,
      "outputs": [
        {
          "output_type": "stream",
          "name": "stdout",
          "text": [
            "60000/60000 [==============================] - 110s 2ms/step - loss: 0.8730 - acc: 0.8059\n"
          ]
        },
        {
          "output_type": "execute_result",
          "data": {
            "text/plain": [
              "<keras.callbacks.History at 0x7fa1662a56d0>"
            ]
          },
          "metadata": {},
          "execution_count": 60
        }
      ]
    },
    {
      "cell_type": "code",
      "metadata": {
        "id": "SynMBIZYVbLy",
        "colab": {
          "base_uri": "https://localhost:8080/"
        },
        "outputId": "d34401a6-1f92-485e-8721-0128a2f574f9"
      },
      "source": [
        "x_test.shape\n"
      ],
      "execution_count": 63,
      "outputs": [
        {
          "output_type": "execute_result",
          "data": {
            "text/plain": [
              "(10000, 28, 28, 1)"
            ]
          },
          "metadata": {},
          "execution_count": 63
        }
      ]
    },
    {
      "cell_type": "code",
      "metadata": {
        "colab": {
          "base_uri": "https://localhost:8080/"
        },
        "id": "_VhiHZt-UgsZ",
        "outputId": "b25359ab-2a74-4f74-86c9-b72de04a0603"
      },
      "source": [
        "m.evaluate(x_test,y_test)"
      ],
      "execution_count": null,
      "outputs": [
        {
          "output_type": "stream",
          "name": "stdout",
          "text": [
            "313/313 [==============================] - 2s 6ms/step - loss: 0.4678 - acc: 0.8698\n"
          ]
        },
        {
          "output_type": "execute_result",
          "data": {
            "text/plain": [
              "[0.46781888604164124, 0.8697999715805054]"
            ]
          },
          "metadata": {},
          "execution_count": 19
        }
      ]
    },
    {
      "cell_type": "code",
      "metadata": {
        "id": "ci0g3o1yVO0Q"
      },
      "source": [
        "test = x_test.reshape(-1,28,28,1)"
      ],
      "execution_count": 26,
      "outputs": []
    },
    {
      "cell_type": "code",
      "metadata": {
        "colab": {
          "base_uri": "https://localhost:8080/",
          "height": 298
        },
        "id": "7JlSfqdoZ5zR",
        "outputId": "8dc9f37a-2bad-4ed6-ec71-576b2320a52f"
      },
      "source": [
        "t = x_test[128]\n",
        "plt.imshow(t.reshape(28,28))\n",
        "t = t.reshape(-1,28,28,1)\n",
        "prediction = (m.predict(t) > 0.7)[0]\n",
        "for i in range(0,len(prediction)):\n",
        "  if(prediction[i]): break\n",
        "plt.title(\"Predicted Value: \"+str(i))"
      ],
      "execution_count": 124,
      "outputs": [
        {
          "output_type": "execute_result",
          "data": {
            "text/plain": [
              "Text(0.5, 1.0, 'Predicted Value: 8')"
            ]
          },
          "metadata": {},
          "execution_count": 124
        },
        {
          "output_type": "display_data",
          "data": {
            "image/png": "[encoded data removed]",
            "text/plain": [
              "<Figure size 432x288 with 1 Axes>"
            ]
          },
          "metadata": {
            "needs_background": "light"
          }
        }
      ]
    },
    {
      "cell_type": "code",
      "metadata": {
        "id": "7DERkZkTpAm_"
      },
      "source": [
        ""
      ],
      "execution_count": null,
      "outputs": []
    }
  ]
}